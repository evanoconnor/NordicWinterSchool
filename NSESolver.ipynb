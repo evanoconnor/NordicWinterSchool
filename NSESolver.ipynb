{
 "cells": [
  {
   "cell_type": "markdown",
   "id": "a1224d15",
   "metadata": {},
   "source": [
    "Trivial NSE Solver\n",
    "==\n",
    "for a much better one see: https://cococubed.com/code_pages/nse.shtml"
   ]
  },
  {
   "cell_type": "code",
   "execution_count": null,
   "id": "2d6900a0",
   "metadata": {},
   "outputs": [],
   "source": [
    "import numpy as np\n",
    "import matplotlib.pylab as plt\n",
    "from scipy.optimize import fsolve"
   ]
  },
  {
   "cell_type": "markdown",
   "id": "d0188534",
   "metadata": {},
   "source": [
    "We want to solve for the NSE of neutrons, protons, and alpha particles.  A simple three species system. We have three dependent quantities that fully describe the system. 1. $\\rho$, the total mass density; 2. $T$, the temperature of the matter; 3. $Y_p$ the proton fraction, which sets the ratio of protons to baryons in the system.\n",
    "\n",
    "For ideal gases, the chemical potential can be determined as a combintation of the particle number density ($n$), the particle's quantum concentration ($n_Q$), and the temperature ($T$),\n",
    "\n",
    "$$\\mu_i = k_B T \\ln (n_i/n_{Q,i})$$\n",
    "\n",
    "we will define the $k_B T$ in units of MeV and just call it $T$ from now on. The number density of a species can be defined as the mass fraction of the species, $\\rho_i = X_i \\rho$, divided by the atomic mass of the species, so $n_i = X_i \\rho_i / A_i$. Here, $X_i$ is the mass fraction of species $i$. The quantum concentration is given as\n",
    "\n",
    "$$n_{Q,i} = \\left(\\frac{2 \\pi T A_i m_\\mathrm{amu} c^2 }{ (hc)^2} \\right)^{3/2}$$\n",
    "\n",
    "As of now, our three species system has three unknowns, that is the three different number densities (or equivilently the three chemical potentials).  We have two conditions to help eliminate these unknowns.  1. the sum of the mass fractions must be 1, i.e. $1 = X_n + X_p + X_\\alpha$ and 2. the sum of the protons must be equal to the proton fraction, i.e. $Y_p = X_p + X_\\alpha/2$.  \n",
    "\n",
    "The final condition is that of NSE, i.e. that the chemical potentials of composite particles (like alpha particles, 2 neutrons and 2 protons) are related to the individual chemical potentials of the neutron and proton. \n",
    "\n",
    "$$\\mu_i = Z_i \\mu_p + (A_i-Z_i) \\mu_n + B_i$$\n",
    "\n",
    "where $Z_i$ is the atomic charge  In equilibrium the energy cost of producing a composite particle is simply the chemical potentials of the constitents plus, importantly, the binding energy of the composite particle.  "
   ]
  },
  {
   "cell_type": "code",
   "execution_count": null,
   "id": "22a925c5",
   "metadata": {},
   "outputs": [],
   "source": [
    "#constants\n",
    "mamuc2 = 931.494103 #MeV\n",
    "mamu_grams =  1.66053907e-24 #grams\n",
    "Navo = 6.02214076e23\n",
    "kB = 1 #if T is in MeV, kT (an energy), will be in MeV\n",
    "hc = 1.24e-10 #MeV cm"
   ]
  },
  {
   "cell_type": "code",
   "execution_count": null,
   "id": "2d37e351",
   "metadata": {},
   "outputs": [],
   "source": [
    "A = np.array([1,1,4])\n",
    "Z = np.array([0,1,2])\n",
    "B = np.array([0,0,28.3]) #MeV"
   ]
  },
  {
   "cell_type": "code",
   "execution_count": null,
   "id": "777f3f2d",
   "metadata": {},
   "outputs": [],
   "source": [
    "#return the mass fraction X given a chemical potential (inverting the expression for mu above)\n",
    "def X(xmu,xA,xrho,xT):\n",
    "    nQ = (2*np.pi*xT*xA*mamuc2/hc**2)**(1.5)\n",
    "    return xA/(xrho*Navo)*nQ*np.exp(xmu/xT)\n",
    "\n",
    "#NSE condition for alpha particles:\n",
    "def mualpha(mun,mup):\n",
    "    return 2*mun+2*mup+28.3\n",
    "\n",
    "#chemical potential given temperature (for the quantum concentration) and the number density of particles\n",
    "def mu(T,n,A):\n",
    "    nQ = (2*np.pi*T*A*mamuc2/hc**2)**(1.5)\n",
    "    return T*np.log(n/nQ)\n",
    "\n",
    "def check_state(mun,mup,mualpha,rho,T):\n",
    "    Xp = X(mup,1,rho,T)\n",
    "    Xn = X(mun,1,rho,T)\n",
    "    Xa = X(mualpha,1,rho,T)\n",
    "    print(Xp,Xn,Xa,Xp+Xn+Xa)"
   ]
  },
  {
   "cell_type": "code",
   "execution_count": null,
   "id": "ee5b5313",
   "metadata": {},
   "outputs": [],
   "source": [
    "def get_Xs(rho,T,yp):\n",
    "\n",
    "    #start by assuming all N and P,\n",
    "    npguess = yp*rho/mamu_grams\n",
    "    nnguess = (1-yp)*rho/mamu_grams\n",
    "    mupguess = mu(T,npguess,1.)\n",
    "    munguess = mu(T,nnguess,1.)\n",
    "    mualphaguess = mualpha(munguess,mupguess)\n",
    "\n",
    "    if mualphaguess>munguess:\n",
    "        #maybe lots of alpha?, the above guess will be too far off, assume lower densities for free nucleons\n",
    "        if yp<0.5:\n",
    "            npguess = min(0.01,yp)*rho/mamu_grams\n",
    "            nnguess = 2.0*(0.5-yp)*rho/mamu_grams\n",
    "            mupguess = mu(T,npguess,1.)\n",
    "            munguess = mu(T,nnguess,1.)\n",
    "            mualphaguess = mualpha(munguess,mupguess)\n",
    "        elif yp>=0.5:\n",
    "            nnguess = min(0.01,(1.0-yp))*rho/mamu_grams\n",
    "            npguess = 2.0*(yp-0.499)*rho/mamu_grams\n",
    "            mupguess = mu(T,npguess,1.)\n",
    "            munguess = mu(T,nnguess,1.)\n",
    "            mualphaguess = mualpha(munguess,mupguess)\n",
    "\n",
    "    def LS(x):\n",
    "        return [1-X(x[0],1,rho,T)- X(x[1],1,rho,T)-X(x[2],4,rho,T), #sum(X)=1\n",
    "                yp-X(x[0],1,rho,T)-X(x[2],4,rho,T)/2., #sum(ZX/A)=Yp\n",
    "                x[2]-mualpha(x[1],x[0])] #NSE for alphas\n",
    "\n",
    "    values = fsolve(LS, [mupguess,munguess,mualphaguess])\n",
    "    \n",
    "    Xp = X(values[0],1,rho,T)\n",
    "    Xn = X(values[1],1,rho,T)\n",
    "    Xa = X(values[2],4,rho,T)\n",
    "    \n",
    "    return Xp,Xn,Xa"
   ]
  },
  {
   "cell_type": "code",
   "execution_count": null,
   "id": "862c27a2",
   "metadata": {},
   "outputs": [],
   "source": [
    "rho=1e11\n",
    "yp = 0.25\n",
    "Ts = np.linspace(1,10,100)\n",
    "Xps = np.zeros(100).reshape(100)\n",
    "Xns = np.zeros(100).reshape(100)\n",
    "Xalphas = np.zeros(100).reshape(100)\n",
    "count=0\n",
    "for T in Ts:\n",
    "    (Xps[count],Xns[count],Xalphas[count]) = get_Xs(rho,T,yp)\n",
    "    count += 1\n",
    "    "
   ]
  },
  {
   "cell_type": "code",
   "execution_count": null,
   "id": "74a61943",
   "metadata": {},
   "outputs": [],
   "source": [
    "plt.plot(Ts,Xps,label=\"Xp\")\n",
    "plt.plot(Ts,Xns,label=\"Xn\")\n",
    "plt.plot(Ts,Xalphas,label=\"Xalpha\")\n",
    "plt.legend(frameon=False)\n",
    "plt.xlabel(\"Temperature [MeV]\")\n",
    "plt.ylabel(\"Mass Fraction\")\n",
    "plt.title(\"NSE for log10rho=\"+str(np.log10(rho))+\"; Yp=\"+str(yp))\n",
    "plt.show()"
   ]
  },
  {
   "cell_type": "code",
   "execution_count": null,
   "id": "97cd1bd7",
   "metadata": {},
   "outputs": [],
   "source": [
    "rho=1e11\n",
    "T = 3.\n",
    "yps = np.linspace(0.001,0.999,100)\n",
    "Xps = np.zeros(100).reshape(100)\n",
    "Xns = np.zeros(100).reshape(100)\n",
    "Xalphas = np.zeros(100).reshape(100)\n",
    "count=0\n",
    "for yp in yps:\n",
    "    (Xps[count],Xns[count],Xalphas[count]) = get_Xs(rho,T,yp)\n",
    "    count += 1"
   ]
  },
  {
   "cell_type": "code",
   "execution_count": null,
   "id": "05b5825e",
   "metadata": {},
   "outputs": [],
   "source": [
    "plt.plot(yps,Xps,label=\"Xp\")\n",
    "plt.plot(yps,Xns,label=\"Xn\")\n",
    "plt.plot(yps,Xalphas,label=\"Xalpha\")\n",
    "plt.legend(frameon=False)\n",
    "plt.xlabel(\"Yp\")\n",
    "plt.ylabel(\"Mass Fraction\")\n",
    "plt.title(\"NSE for log10rho=\"+str(np.log10(rho))+\"; T=\"+str(T))\n",
    "plt.show()"
   ]
  },
  {
   "cell_type": "code",
   "execution_count": null,
   "id": "0a650f89",
   "metadata": {},
   "outputs": [],
   "source": []
  }
 ],
 "metadata": {
  "kernelspec": {
   "display_name": "Python 3 (ipykernel)",
   "language": "python",
   "name": "python3"
  },
  "language_info": {
   "codemirror_mode": {
    "name": "ipython",
    "version": 3
   },
   "file_extension": ".py",
   "mimetype": "text/x-python",
   "name": "python",
   "nbconvert_exporter": "python",
   "pygments_lexer": "ipython3",
   "version": "3.8.8"
  }
 },
 "nbformat": 4,
 "nbformat_minor": 5
}
